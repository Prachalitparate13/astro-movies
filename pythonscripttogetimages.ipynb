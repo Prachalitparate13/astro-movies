{
 "cells": [
  {
   "cell_type": "code",
   "execution_count": null,
   "id": "6bdad54a",
   "metadata": {},
   "outputs": [],
   "source": [
    "import pandas as pd\n",
    "import requests\n",
    "import time\n",
    "\n",
    "# Set your OMDb API key here\n",
    "API_KEY = 'apikey'\n",
    "BASE_URL = 'http://www.omdbapi.com/'\n",
    "\n",
    "# Load the CSV file (modify path as needed)\n",
    "input_csv_path = 'movie_metadata.csv'\n",
    "df = pd.read_csv(input_csv_path)\n",
    "\n",
    "# Function to get movie poster link from OMDb API\n",
    "def get_movie_poster(title):\n",
    "    params = {\n",
    "        't': title,  # Use movie title as query parameter\n",
    "        'apikey': API_KEY\n",
    "    }\n",
    "    try:\n",
    "        response = requests.get(BASE_URL, params=params)\n",
    "        data = response.json()\n",
    "        \n",
    "        # Check if 'Poster' field exists, return it; otherwise None\n",
    "        return data.get('Poster', None)\n",
    "    except Exception as e:\n",
    "        print(f\"Error fetching poster for {title}: {e}\")\n",
    "        return None\n",
    "\n",
    "# Add a new column to store the movie poster URLs\n",
    "df['movie_image'] = None\n",
    "\n",
    "# Fetch posters for each movie title\n",
    "for index, row in df.iterrows():\n",
    "    title = row['movie_title']  # Assuming 'director_name' is used as a proxy for movie title here; replace if needed\n",
    "    if pd.notnull(title):\n",
    "        print(f\"Fetching poster for: {title}\")\n",
    "        poster_url = get_movie_poster(title)\n",
    "        df.at[index, 'movie_image'] = poster_url\n",
    "        time.sleep(0.2)  # Delay between API calls to avoid rate-limiting\n",
    "\n",
    "# Save the updated DataFrame to a new CSV file\n",
    "output_csv_path = 'movie_metadata_with_images.csv'\n",
    "df.to_csv(output_csv_path, index=False)\n",
    "\n",
    "print(f\"Updated CSV saved to {output_csv_path}\")"
   ]
  },
  {
   "cell_type": "code",
   "execution_count": 1,
   "id": "049f848c",
   "metadata": {},
   "outputs": [
    {
     "name": "stdout",
     "output_type": "stream",
     "text": [
      "Updated JSON file with posters saved as: movie_metadata_with_posters.json\n"
     ]
    }
   ],
   "source": [
    "import requests\n",
    "import pandas as pd\n",
    "\n",
    "# OMDb API key\n",
    "api_key = 'apikey'\n",
    "\n",
    "# Load the sampled data (the 1000 random records JSON)\n",
    "json_file_path = 'movie_metadata_sampled_1000.json'\n",
    "df = pd.read_json(json_file_path, lines=True)\n",
    "\n",
    "# Function to get poster link from OMDb API\n",
    "def get_movie_poster(title):\n",
    "    url = f\"http://www.omdbapi.com/?t={title}&apikey={api_key}\"\n",
    "    response = requests.get(url)\n",
    "    data = response.json()\n",
    "    \n",
    "    # Return poster URL if available\n",
    "    return data.get('Poster', 'N/A')\n",
    "\n",
    "# Add a new column 'poster' to the DataFrame\n",
    "df['poster'] = df['movie_title'].apply(lambda x: get_movie_poster(x.strip()))\n",
    "\n",
    "# Save the updated DataFrame with the poster links to a new JSON file\n",
    "updated_json_file_path = 'movie_metadata_with_posters.json'\n",
    "df.to_json(updated_json_file_path, orient='records', lines=True)\n",
    "\n",
    "print(f\"Updated JSON file with posters saved as: {updated_json_file_path}\")"
   ]
  },
  {
   "cell_type": "code",
   "execution_count": null,
   "id": "183e4cd6",
   "metadata": {},
   "outputs": [],
   "source": [
    " "
   ]
  }
 ],
 "metadata": {
  "kernelspec": {
   "display_name": "Python 3 (ipykernel)",
   "language": "python",
   "name": "python3"
  },
  "language_info": {
   "codemirror_mode": {
    "name": "ipython",
    "version": 3
   },
   "file_extension": ".py",
   "mimetype": "text/x-python",
   "name": "python",
   "nbconvert_exporter": "python",
   "pygments_lexer": "ipython3",
   "version": "3.10.8"
  }
 },
 "nbformat": 4,
 "nbformat_minor": 5
}
